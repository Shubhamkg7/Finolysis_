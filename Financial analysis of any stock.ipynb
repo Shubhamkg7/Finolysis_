import yfinance as yf
import pandas as pd
import matplotlib.pyplot as plt
from datetime import datetime, timedelta
import numpy as np

def analyze_stock(ticker_symbol):
    """
    Comprehensive stock analysis using yfinance
    """
    # Create a Ticker object
    stock = yf.Ticker(ticker_symbol)
    
    # 1. Basic Information
    print("\n=== Basic Information ===")
    info = stock.info
    basic_info = {
        'Company Name': info.get('longName', 'N/A'),
        'Sector': info.get('sector', 'N/A'),
        'Industry': info.get('industry', 'N/A'),
        'Country': info.get('country', 'N/A'),
        'Market Cap': info.get('marketCap', 'N/A'),
        'Current Price': info.get('currentPrice', 'N/A')
    }
    for key, value in basic_info.items():
        print(f"{key}: {value}")

    # 2. Fundamental Analysis
    print("\n=== Fundamental Analysis ===")
    fundamental_metrics = {
        'P/E Ratio': info.get('forwardPE', 'N/A'),
        'PEG Ratio': info.get('pegRatio', 'N/A'),
        'Price/Book': info.get('priceToBook', 'N/A'),
        'Profit Margins': info.get('profitMargins', 'N/A'),
        'Operating Margins': info.get('operatingMargins', 'N/A'),
        'ROE': info.get('returnOnEquity', 'N/A'),
        'Revenue Growth': info.get('revenueGrowth', 'N/A'),
        'Debt to Equity': info.get('debtToEquity', 'N/A')
    }
    for key, value in fundamental_metrics.items():
        print(f"{key}: {value}")

    # 3. Financial Statements
    print("\n=== Financial Statements ===")
    print("\nBalance Sheet:")
    print(stock.balance_sheet.head())
    
    print("\nIncome Statement:")
    print(stock.income_stmt.head())
    
    print("\nCash Flow Statement:")
    print(stock.cashflow.head())

    # 4. Technical Analysis
    # Get historical data for the last year
    end_date = datetime.now()
    start_date = end_date - timedelta(days=365)
    hist = stock.history(start=start_date, end=end_date)
    
    # Calculate technical indicators
    # Moving averages
    hist['SMA_20'] = hist['Close'].rolling(window=20).mean()
    hist['SMA_50'] = hist['Close'].rolling(window=50).mean()
    
    # RSI
    def calculate_rsi(data, periods=14):
        delta = data.diff()
        gain = (delta.where(delta > 0, 0)).rolling(window=periods).mean()
        loss = (-delta.where(delta < 0, 0)).rolling(window=periods).mean()
        rs = gain / loss
        return 100 - (100 / (1 + rs))
    
    hist['RSI'] = calculate_rsi(hist['Close'])
    
    # MACD
    exp1 = hist['Close'].ewm(span=12, adjust=False).mean()
    exp2 = hist['Close'].ewm(span=26, adjust=False).mean()
    hist['MACD'] = exp1 - exp2
    hist['Signal_Line'] = hist['MACD'].ewm(span=9, adjust=False).mean()
    
    print("\n=== Technical Indicators (Last 5 days) ===")
    print(hist[['Close', 'SMA_20', 'SMA_50', 'RSI', 'MACD', 'Signal_Line']].tail())

    # 5. Additional Features
    print("\n=== Additional Information ===")
    
    # Major holders
    print("\nMajor Holders:")
    major_holders = stock.major_holders
    if major_holders is not None:
        print(major_holders)
    
    # Institutional holders
    print("\nTop Institutional Holders:")
    institutional_holders = stock.institutional_holders
    if institutional_holders is not None:
        print(institutional_holders)
    
    # Analyst recommendations
    print("\nAnalyst Recommendations:")
    recommendations = stock.recommendations
    if recommendations is not None:
        print(recommendations.tail())

    return hist

# Example usage
if __name__ == "__main__":
    # Example: Analyze Apple stock
    ticker = "TITAN.NS"
    historical_data = analyze_stock(ticker)
